{
 "cells": [
  {
   "cell_type": "code",
   "execution_count": 1,
   "id": "5a37d722",
   "metadata": {},
   "outputs": [],
   "source": [
    "# Importing Libraries;\n",
    "\n",
    "import speech_recognition as sr\n",
    "import pyttsx3\n",
    "import datetime\n",
    "import wikipedia\n",
    "import cv2\n",
    "import os\n",
    "import time\n",
    "import subprocess\n",
    "import json\n",
    "import requests\n",
    "import webbrowser\n",
    "import wolframalpha"
   ]
  },
  {
   "cell_type": "code",
   "execution_count": 2,
   "id": "0e621a99",
   "metadata": {},
   "outputs": [
    {
     "name": "stdout",
     "output_type": "stream",
     "text": [
      "Loading your AI Assistant: {name}\n"
     ]
    }
   ],
   "source": [
    "# Welcome message for our AI:\n",
    "\n",
    "print(\"Loading your AI Assistant: {name}\")"
   ]
  },
  {
   "cell_type": "code",
   "execution_count": 3,
   "id": "71658209",
   "metadata": {},
   "outputs": [],
   "source": [
    "engine = pyttsx3.init('sapi5')\n",
    "voices = engine.getProperty('voices')\n",
    "engine.setProperty('voice', 'voice[0].id')"
   ]
  },
  {
   "cell_type": "code",
   "execution_count": 4,
   "id": "fa72c6c6",
   "metadata": {},
   "outputs": [],
   "source": [
    "# function =======\n",
    "\n",
    "def speak(text):\n",
    "    engine.say(text)\n",
    "    engine.runAndWait()"
   ]
  },
  {
   "cell_type": "code",
   "execution_count": 5,
   "id": "297c0094",
   "metadata": {},
   "outputs": [],
   "source": [
    "# Wishing Function:\n",
    "\n",
    "def wishMe():\n",
    "    hour = datetime.datetime.now().hour\n",
    "    \n",
    "    if hour>=0 and hour<12:\n",
    "        speak(\"Hello Akshit, Wish you a very Good Morning\")\n",
    "        print(\"Hello Akshit, Wish you a very Good Morning\")\n",
    "        \n",
    "    elif hour >=12 and hour<18:\n",
    "        speak(\"Hello Akshit, Good Afternoon\")\n",
    "        print(\"Hello Akshit, Good Afternoon\")\n",
    "    \n",
    "    else:\n",
    "        speak(\"Hello Akshit, Good Evening\")\n",
    "        print(\"Hello Akshit, Good Evening\")"
   ]
  },
  {
   "cell_type": "code",
   "execution_count": 6,
   "id": "d45324cd",
   "metadata": {},
   "outputs": [],
   "source": [
    "def takeCommand():\n",
    "    r = sr.Recognizer()\n",
    "    with sr.Microphone() as source:\n",
    "        print(\"Listening...\")\n",
    "        audio = r.listen(source)\n",
    "        \n",
    "        \n",
    "        try:\n",
    "            statement = r.recognizer_google(audio, language = 'en-in')\n",
    "            print(f\"user said: {statement}\\n\")\n",
    "            \n",
    "        except Exception as e:\n",
    "            speak(\"Pardon me, Please say that again, Sir\")\n",
    "            return \"none\"\n",
    "        \n",
    "        return statement"
   ]
  },
  {
   "cell_type": "code",
   "execution_count": 7,
   "id": "74317b10",
   "metadata": {},
   "outputs": [
    {
     "name": "stdout",
     "output_type": "stream",
     "text": [
      "Hello Akshit, Wish you a very Good Morning\n"
     ]
    }
   ],
   "source": [
    "speak(\"Loading your AI personal Assistant Akki\")\n",
    "\n",
    "wishMe()"
   ]
  },
  {
   "cell_type": "code",
   "execution_count": null,
   "id": "4802a8f7",
   "metadata": {},
   "outputs": [],
   "source": []
  }
 ],
 "metadata": {
  "kernelspec": {
   "display_name": "Python 3 (ipykernel)",
   "language": "python",
   "name": "python3"
  },
  "language_info": {
   "codemirror_mode": {
    "name": "ipython",
    "version": 3
   },
   "file_extension": ".py",
   "mimetype": "text/x-python",
   "name": "python",
   "nbconvert_exporter": "python",
   "pygments_lexer": "ipython3",
   "version": "3.9.7"
  }
 },
 "nbformat": 4,
 "nbformat_minor": 5
}
